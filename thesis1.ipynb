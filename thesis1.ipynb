{
 "cells": [
  {
   "cell_type": "code",
   "execution_count": 1,
   "metadata": {},
   "outputs": [],
   "source": [
    "import numpy as np\n",
    "import math as m\n",
    "from sympy import *\n",
    "from scipy.integrate import solve_ivp # solving differential equations\n",
    "import matplotlib.pyplot as plt # ploting results\n",
    "import matplotlib.tri as tlt\n",
    "mat = np.array\n",
    "\n",
    "x ,y = symbols('x y')"
   ]
  },
  {
   "cell_type": "code",
   "execution_count": 2,
   "metadata": {},
   "outputs": [],
   "source": [
    "def distance(p1,p2):\n",
    "    d = np.sqrt((p1[0]-p2[0])**2+(p1[1]-p2[1])**2)\n",
    "    return d"
   ]
  },
  {
   "cell_type": "code",
   "execution_count": 3,
   "metadata": {},
   "outputs": [],
   "source": [
    "def weight_1(d1,d2,dx):\n",
    "    w1 = (d2+dx)/(d1+d2+dx)\n",
    "    return w1/2"
   ]
  },
  {
   "cell_type": "code",
   "execution_count": 4,
   "metadata": {},
   "outputs": [],
   "source": [
    "def weight_2(d1,d2,dx):\n",
    "    w2 = (d1+dx)/(d1+d2+dx)\n",
    "    return w2/2"
   ]
  },
  {
   "cell_type": "code",
   "execution_count": 5,
   "metadata": {},
   "outputs": [],
   "source": [
    "def weight_x(d1,d2,dx):\n",
    "    wx = (d1+d2)/(d1+d2+dx)\n",
    "    return wx/2"
   ]
  },
  {
   "cell_type": "code",
   "execution_count": 6,
   "metadata": {},
   "outputs": [],
   "source": [
    "def f_1_2(theta,midx,mid1):\n",
    "    if theta<0:\n",
    "        if midx[0]<mid1[0] or midx[1]<mid1[1]:\n",
    "            return np.cos(theta-(np.pi/2))*x + np.sin(theta-(np.pi/2))*y\n",
    "        else:\n",
    "            return np.cos(theta+(np.pi/2))*x + np.sin(theta+(np.pi/2))*y\n",
    "    elif theta == np.pi/2:\n",
    "        \n",
    "        if midx[0]>mid1[0]:\n",
    "            return np.cos(theta-(np.pi/2))*x + np.sin(theta-(np.pi/2))*y\n",
    "        else:\n",
    "            return np.cos(theta+(np.pi/2))*x + np.sin(theta+(np.pi/2))*y\n",
    "        \n",
    "        if midx[0]>mid1[0] or midx[1]<mid1[1]:\n",
    "            return np.cos(theta-(np.pi/2))*x + np.sin(theta-(np.pi/2))*y\n",
    "        else:\n",
    "            return np.cos(theta+(np.pi/2))*x + np.sin(theta+(np.pi/2))*y\n",
    "    elif theta==0:\n",
    "        if midx[1]<mid1[1]:\n",
    "            return np.cos(theta-(np.pi/2))*x + np.sin(theta-(np.pi/2))*y\n",
    "        else:\n",
    "            return np.cos(theta+(np.pi/2))*x + np.sin(theta+(np.pi/2))*y\n",
    "    elif theta >0 :\n",
    "        if midx[0]>mid1[0] or midx[1]<mid1[1]:\n",
    "            return np.cos(theta-(np.pi/2))*x + np.sin(theta-(np.pi/2))*y\n",
    "        else:\n",
    "            return np.cos(theta+(np.pi/2))*x + np.sin(theta+(np.pi/2))*y\n",
    "        "
   ]
  },
  {
   "cell_type": "code",
   "execution_count": 7,
   "metadata": {},
   "outputs": [],
   "source": [
    "def f_x(theta,midx,mid1):\n",
    "    if theta<0:\n",
    "        if midx[0]>mid1[0] or midx[1]>mid1[1]:\n",
    "            return np.cos(theta+(np.pi/2))*x + np.sin(theta+(np.pi/2))*y\n",
    "        else:\n",
    "            return np.cos(theta-(np.pi/2))*x + np.sin(theta-(np.pi/2))*y\n",
    "    elif theta == np.pi/2:\n",
    "        if midx[0]<mid1[0]:\n",
    "            print('sex')\n",
    "            return (np.cos(theta+(np.pi/2))*x + np.sin(theta+(np.pi/2))*y)\n",
    "        else:\n",
    "            print('kurwa')\n",
    "            return np.cos(theta-(np.pi/2))*x + np.sin(theta-(np.pi/2))*y  \n",
    "    elif theta==0:\n",
    "        if midx[1]<mid1[1]:\n",
    "            return np.cos(theta-(np.pi/2))*x + np.sin(theta-(np.pi/2))*y\n",
    "        else:\n",
    "            return np.cos(theta+(np.pi/2))*x + np.sin(theta+(np.pi/2))*y\n",
    "    elif theta >0:\n",
    "        if midx[0]<mid1[0] or midx[1]<mid1[1]:\n",
    "            return np.cos(theta+(np.pi/2))*x + np.sin(theta+(np.pi/2))*y\n",
    "        else:\n",
    "            return np.cos(theta-(np.pi/2))*x + np.sin(theta-(np.pi/2))*y"
   ]
  },
  {
   "cell_type": "code",
   "execution_count": 8,
   "metadata": {},
   "outputs": [],
   "source": [
    "def middle(p1,p2):\n",
    "    xm = (p1[0]+p2[0])/2\n",
    "    ym = (p1[1]+p2[1])/2\n",
    "    return [xm,ym]"
   ]
  },
  {
   "cell_type": "code",
   "execution_count": 9,
   "metadata": {},
   "outputs": [],
   "source": [
    "def ploter(t1,t2,t3,xxx,yyy):\n",
    "    L_1_x = [t1[0],t2[0]]\n",
    "    L_1_y = [t1[1],t2[1]]\n",
    "    L_2_x = [t1[0],t3[0]]\n",
    "    L_2_y=[t1[1],t3[1]]\n",
    "    L_3_x=[t2[0],t3[0]]\n",
    "    L_3_y=[t2[1],t3[1]]\n",
    "    plt.figure()\n",
    "    plt.plot(L_3_x,L_3_y)\n",
    "    plt.plot(L_1_x,L_1_y)\n",
    "    plt.plot(L_2_x,L_2_y)\n",
    "    plt.plot(xxx, yyy, label='Position')\n",
    "    "
   ]
  },
  {
   "cell_type": "code",
   "execution_count": 10,
   "metadata": {},
   "outputs": [],
   "source": [
    "def angle(p1,p2):\n",
    "    if ((p1[0]-p2[0]) == 0):\n",
    "        return np.pi/2\n",
    "    else:\n",
    "        return (np.arctan((p1[1]-p2[1])/(p1[0]-p2[0])))\n"
   ]
  },
  {
   "cell_type": "code",
   "execution_count": 42,
   "metadata": {},
   "outputs": [
    {
     "name": "stdout",
     "output_type": "stream",
     "text": [
      " 90.0  45.0   0.0\n",
      "w1 = 0.25,w2 = 0.25, wx = 0.5\n",
      "w1 = 0.25,w2 = 0.25, wx = 0.5\n"
     ]
    }
   ],
   "source": [
    "t1 = [3,1]\n",
    "t2 = [3,3]\n",
    "t3 = [1,1]\n",
    "mid_2 = middle(t1,t2)\n",
    "mid_x = middle(t2,t3)\n",
    "mid_1 = middle(t1,t3)\n",
    "angle_2 = angle(t1,t2)\n",
    "angle_x = angle(t2,t3)\n",
    "angle_1 = angle(t1,t3)\n",
    "\n",
    "pr = mid_x\n",
    "print(f' {angle(t1,t2)*180/np.pi}  {angle(t2,t3)*180/np.pi}   {angle(t1,t3)*180/np.pi}' )\n",
    "\n",
    "xxx = [pr[0]]\n",
    "yyy = [pr[1]]\n",
    "t = [0]\n",
    "f1 = f_1_2(angle_1,mid_x,mid_1)\n",
    "f2 = f_1_2(angle_2,mid_x,mid_2)\n",
    "fx = f_x(angle_x,mid_x,mid_1)\n",
    "for i in range(2):\n",
    "    d1 = distance(mid_1,pr)\n",
    "    d2 = distance(mid_2,pr)\n",
    "    dx = distance(mid_x,pr)\n",
    "\n",
    "    w1 = weight_1(d1,d2,dx)\n",
    "    w2 = weight_2(d1,d2,dx)\n",
    "    wx = weight_x(d1,d2,dx)\n",
    "    print(f'w1 = {w1},w2 = {w2}, wx = {wx}')\n",
    "    '''\n",
    "    if(mid_x == middle(t1,t2)):\n",
    "        h = w1*(cos(angle_1)*x+sin(angle_1)*y) - w2*(cos(angle_2)*x+sin(angle_2)*y) + wx*(cos(angle_x)*x+sin(angle_x)*y)  \n",
    "    \n",
    "    elif(mid_x == middle(t2,t3)):\n",
    "          h = -w1*(cos(angle_1)*x+sin(angle_1)*y) + w2*(cos(angle_2)*x+sin(angle_2)*y) + wx*(cos(angle_x)*x+sin(angle_x)*y)  \n",
    "    \n",
    "    elif(mid_x == middle(t1,t3)):\n",
    "         h = -w1*(cos(angle_1)*x+sin(angle_1)*y) - w2*(cos(angle_2)*x+sin(angle_2)*y) - wx*(cos(angle_x)*x+sin(angle_x)*y)  \n",
    "    '''\n",
    "    h = 0 * f1 + 0*f2 + 1*fx \n",
    "    hx = diff(h,x)\n",
    "    hx1 = lambdify((x,y),hx)\n",
    "    hy = diff(h,y)\n",
    "    hy1 = lambdify((x,y),hy)\n",
    "    \n",
    "    hx11 = hx1(pr[0],pr[1])\n",
    "    hy11 = hy1(pr[0],pr[1])\n",
    "    pr[0]=pr[0]+hx11\n",
    "    pr[1]=pr[1]+hy11\n",
    "    xxx.append(pr[0])\n",
    "    yyy.append(pr[1])\n",
    "    t.append(i+1)\n"
   ]
  },
  {
   "cell_type": "code",
   "execution_count": 43,
   "metadata": {},
   "outputs": [
    {
     "data": {
      "image/png": "[encoded data removed]",
      "text/plain": [
       "<Figure size 432x288 with 1 Axes>"
      ]
     },
     "metadata": {
      "needs_background": "light"
     },
     "output_type": "display_data"
    }
   ],
   "source": [
    "ploter(t1,t2,t3,xxx,yyy)"
   ]
  },
  {
   "cell_type": "code",
   "execution_count": 27,
   "metadata": {},
   "outputs": [],
   "source": [
    "def kin(t,r):\n",
    "    pr = r\n",
    "    mid_1 = m[0]\n",
    "    mid_2 = m[1]\n",
    "    mid_x = m[2]\n",
    "    \n",
    "    f1 =m_f_1_2(mid_1,mid_x)\n",
    "    f2 =m_f_1_2(mid_2,mid_x) \n",
    "    \n",
    "    d1 = distance(mid_1,pr)\n",
    "    d2 = distance(mid_2,pr)\n",
    "    dx = distance(mid_x,pr)\n",
    "\n",
    "    w1 = weight_1(d1,d2,dx)\n",
    "    w2 = weight_2(d1,d2,dx)\n",
    "    wx = weight_x(d1,d2,dx)\n",
    "    \n",
    "    mf_x = m_f_x(pr,mid_x)\n",
    "    h = w1*f1+w2*f2+wx*mf_x\n",
    "    hx = diff(h,x)\n",
    "    hx1 = lambdify((x,y),hx)\n",
    "    hy = diff(h,y)\n",
    "    hy1 = lambdify((x,y),hy)\n",
    "    \n",
    "    \n",
    "    theta = np.arctan2(pr[1],pr[0])\n",
    "    theta1 = np.arctan2(hy1(pr[1],pr[0]),hx1(pr[1],pr[0]))\n",
    "    U_1 = (hy1(pr[1],pr[0])+hx1(pr[1],pr[0]))/(np.cos(theta)+np.sin(theta))\n",
    "    U_2 = theta1\n",
    "    g = mat([[1,0],[0,np.cos(theta)],[0,np.sin(theta)]])\n",
    "    q_dot = g @ mat([[U_2],[U_1]])\n",
    "    return q_dot[1][0],q_dot[2][0]"
   ]
  },
  {
   "cell_type": "code",
   "execution_count": null,
   "metadata": {},
   "outputs": [],
   "source": []
  },
  {
   "cell_type": "code",
   "execution_count": null,
   "metadata": {},
   "outputs": [],
   "source": [
    "plt.figure()\n",
    "plt.plot(L_3_x,L_3_y)\n",
    "plt.plot(L_1_x,L_1_y)\n",
    "plt.plot(L_2_x,L_2_y)\n",
    "plt.plot(x, y, label='Position')\n",
    "plt.xlabel('x')\n",
    "plt.ylabel('Y')\n",
    "plt.legend(loc='best')"
   ]
  },
  {
   "cell_type": "code",
   "execution_count": null,
   "metadata": {},
   "outputs": [],
   "source": [
    "import numpy as np"
   ]
  },
  {
   "cell_type": "code",
   "execution_count": null,
   "metadata": {},
   "outputs": [],
   "source": [
    "print(mat([[1],[3]]))"
   ]
  },
  {
   "cell_type": "code",
   "execution_count": null,
   "metadata": {},
   "outputs": [],
   "source": [
    "np.arctan(3.5)+pi"
   ]
  },
  {
   "cell_type": "code",
   "execution_count": null,
   "metadata": {},
   "outputs": [],
   "source": [
    "cos(1.29249666778979+pi)"
   ]
  },
  {
   "cell_type": "code",
   "execution_count": null,
   "metadata": {},
   "outputs": [],
   "source": [
    "cos(1.29249666778979+pi)"
   ]
  },
  {
   "cell_type": "code",
   "execution_count": 73,
   "metadata": {},
   "outputs": [
    {
     "data": {
      "text/plain": [
       "3.141592653589793"
      ]
     },
     "execution_count": 73,
     "metadata": {},
     "output_type": "execute_result"
    }
   ],
   "source": [
    "np.pi"
   ]
  },
  {
   "cell_type": "code",
   "execution_count": null,
   "metadata": {},
   "outputs": [],
   "source": [
    "#147.99461679191648  90.0   32.005383208083494\n",
    "\"\"\"\n",
    "L_1_x = [1,3.5]\n",
    "L_1_y = [1,5]\n",
    "L_2_x = [1,6]\n",
    "L_2_y=[1,1]\n",
    "L_3_x=[3.5,6]\n",
    "L_3_y=[5,1]\n",
    "\"\"\""
   ]
  }
 ],
 "metadata": {
  "kernelspec": {
   "display_name": "Python 3",
   "language": "python",
   "name": "python3"
  },
  "language_info": {
   "codemirror_mode": {
    "name": "ipython",
    "version": 3
   },
   "file_extension": ".py",
   "mimetype": "text/x-python",
   "name": "python",
   "nbconvert_exporter": "python",
   "pygments_lexer": "ipython3",
   "version": "3.7.6"
  }
 },
 "nbformat": 4,
 "nbformat_minor": 4
}
